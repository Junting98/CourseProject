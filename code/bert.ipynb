{
 "cells": [
  {
   "cell_type": "code",
   "execution_count": null,
   "metadata": {
    "id": "TBgnQlDStqKa"
   },
   "outputs": [],
   "source": [
    "import torch\n",
    "import torch.nn as nn\n",
    "torch.manual_seed(12345)\n",
    "import numpy as np\n",
    "np.random.seed(12345)\n",
    "device = torch.device(\"cuda\")"
   ]
  },
  {
   "cell_type": "code",
   "execution_count": null,
   "metadata": {
    "colab": {
     "base_uri": "https://localhost:8080/"
    },
    "id": "psnEcT_Htr10",
    "outputId": "fa4d0ba3-31fe-481c-d9df-066d67e05356"
   },
   "outputs": [],
   "source": [
    "import json\n",
    "import re\n",
    "\n",
    "# REMOVE CERTAIN ABBREVIATIONS\n",
    "def remove_abbreviation(text):\n",
    "    text = text.replace(\"'m\", \" am\")\n",
    "    text = text.replace(\"'s\", \" is\")\n",
    "    text = text.replace(\"'re\", \" are\")\n",
    "    text = text.replace(\"'ll\", \" will\")  \n",
    "    text = text.replace(\"won't\", \"will not\")\n",
    "    \n",
    "    text = text.replace(\"'ve\", \" have\")  \n",
    "    text = text.replace(\"have't\", \"have not\")\n",
    "    \n",
    "    text = text.replace(\"'d\", \" would\")\n",
    "    text = text.replace(\"'ve\", \" have\")\n",
    "    \n",
    "    text = text.replace(\"don't\", \"do not\")\n",
    "    text = text.replace(\"did't\", \"did not\")\n",
    "    text = text.replace(\"can't\", \"can not\")\n",
    "    text = text.replace(\"couldn't\", \"could not\")\n",
    "    return text\n",
    "\n",
    "def filtered(text):\n",
    "    # REFERENCE: https://stackoverflow.com/questions/28840908/perfect-regex-for-extracting-url-with-re-findall\n",
    "    # REMOVE URLS \n",
    "    text = re.sub('http[s]?://(?:[a-zA-Z]|[0-9]|[$-_@.&+]|[!*\\(\\),]|(?:%[0-9a-fA-F][0-9a-fA-F]))+', \"\", text)\n",
    "    # REMOVE @...(@USERS)\n",
    "    text = \" \".join(filter(lambda x:x[0]!='@', text.split()))\n",
    "    # REMOVE ENDINGS\n",
    "    text = text.replace(\"<URL>\", '')\n",
    "    text = text.lower()\n",
    "    text = remove_abbreviation(text)\n",
    "    # REMOVE PUNCTUATIONS\n",
    "    text = re.sub(\"[,.\\\"\\'!@#$%^&*(){}+=-_?/;`~:<>\\\\\\[\\]]\", \"\", text)\n",
    "    return text.strip().lower()\n",
    "\n",
    "def get_data():\n",
    "    train_text = []\n",
    "    train_labels = []\n",
    "    test_text = []\n",
    "    test_labels = []\n",
    "    with open('data/train.jsonl') as json_file: \n",
    "        for i in json_file:\n",
    "            data = json.loads(i)\n",
    "            if (data['label']) == 'SARCASM':\n",
    "              train_labels.append(1)\n",
    "            else:\n",
    "              train_labels.append(0)\n",
    "            train_text.append(filtered(data[\"response\"]))\n",
    "\n",
    "    with open('data/test.jsonl') as json_file: \n",
    "        for i in json_file:\n",
    "            data = json.loads(i)\n",
    "            test_labels.append(int(data['id'].split(\"_\")[1]))\n",
    "            test_text.append(filtered(data[\"response\"]))\n",
    "    return train_text, train_labels, test_text, test_labels\n",
    "\n",
    "\n",
    "train_text, train_labels, test_text, test_labels = get_data()\n",
    "# GET EVAL TEXT AND LABELS\n",
    "eval_text = train_text[:500] + train_text[-500:]\n",
    "eval_labels = train_labels[:500] + train_labels[-500:]\n",
    "# GET TRAIN TEXT AND LABELS\n",
    "train_text = train_text[500:-500]\n",
    "train_labels = train_labels[500:-500]\n",
    "\n",
    "print(train_text[0])"
   ]
  },
  {
   "cell_type": "code",
   "execution_count": null,
   "metadata": {
    "colab": {
     "base_uri": "https://localhost:8080/",
     "height": 358
    },
    "id": "_DZjYqHgtzTN",
    "outputId": "a00ada9b-505f-4c93-fe2a-3fce210e9e27"
   },
   "outputs": [],
   "source": [
    "from transformers import DistilBertModel, DistilBertTokenizer\n",
    "# LOAD PRE-TRAINED BERT\n",
    "bert = DistilBertModel.from_pretrained('distilbert-base-uncased')"
   ]
  },
  {
   "cell_type": "code",
   "execution_count": null,
   "metadata": {
    "id": "IUxJWfhbvFl1"
   },
   "outputs": [],
   "source": [
    "max_seq_len = 80"
   ]
  },
  {
   "cell_type": "code",
   "execution_count": null,
   "metadata": {
    "colab": {
     "base_uri": "https://localhost:8080/"
    },
    "id": "XWTaIi6avIu_",
    "outputId": "3c1f2d2b-9607-4572-9d5a-dc355b2c041f"
   },
   "outputs": [],
   "source": [
    "# REFERENCE: https://www.analyticsvidhya.com/blog/2020/07/transfer-learning-for-nlp-fine-tuning-bert-for-text-classification/\n",
    "\n",
    "# INTIALIZE PRE-TRAINED TOKENIZER\n",
    "tokenizer = DistilBertTokenizer.from_pretrained('distilbert-base-uncased')\n",
    "\n",
    "# TOKENIZE TRAIN\n",
    "tokens_train = tokenizer(\n",
    "    train_text,\n",
    "    max_length = max_seq_len,\n",
    "    pad_to_max_length=True,\n",
    "    truncation=True,\n",
    "    return_token_type_ids=False\n",
    ")\n",
    "\n",
    "# TOKENIZE VALIDATION\n",
    "tokens_eval = tokenizer(\n",
    "    eval_text,\n",
    "    max_length = max_seq_len,\n",
    "    pad_to_max_length=True,\n",
    "    truncation=True,\n",
    "    return_token_type_ids=False\n",
    ")\n",
    "\n",
    "# TOKENIZE TEST\n",
    "tokens_test = tokenizer(\n",
    "    test_text,\n",
    "    max_length = max_seq_len,\n",
    "    pad_to_max_length=True,\n",
    "    truncation=True,\n",
    "    return_token_type_ids=False\n",
    ")"
   ]
  },
  {
   "cell_type": "code",
   "execution_count": null,
   "metadata": {
    "colab": {
     "base_uri": "https://localhost:8080/"
    },
    "id": "Xe3Ftid3wqlC",
    "outputId": "a26dcfde-f2a1-47fc-a433-9a89aa197d24"
   },
   "outputs": [],
   "source": [
    "# REFERENCE: https://www.analyticsvidhya.com/blog/2020/07/transfer-learning-for-nlp-fine-tuning-bert-for-text-classification/\n",
    "\n",
    "# GET IDS AND MASK FOR TRAIN, VALIDATION and TEST\n",
    "train_seq = torch.tensor(tokens_train['input_ids'])\n",
    "print(train_seq.shape)\n",
    "train_mask = torch.tensor(tokens_train['attention_mask'])\n",
    "train_y = torch.tensor(train_labels).to(device)\n",
    "print(train_y.shape)\n",
    "\n",
    "eval_seq = torch.tensor(tokens_eval['input_ids'])\n",
    "print(eval_seq.shape)\n",
    "eval_mask = torch.tensor(tokens_eval['attention_mask'])\n",
    "eval_y = torch.tensor(eval_labels).to(device)\n",
    "print(eval_y.shape)\n",
    "\n",
    "# for test set\n",
    "test_seq = torch.tensor(tokens_test['input_ids'])\n",
    "test_mask = torch.tensor(tokens_test['attention_mask'])\n",
    "print(train_seq[1])"
   ]
  },
  {
   "cell_type": "code",
   "execution_count": null,
   "metadata": {},
   "outputs": [],
   "source": [
    "# REFERENCE: https://www.analyticsvidhya.com/blog/2020/07/transfer-learning-for-nlp-fine-tuning-bert-for-text-classification/\n",
    "\n",
    "from torch.utils.data import TensorDataset, DataLoader, RandomSampler, SequentialSampler\n",
    "batch_size = 32\n",
    "\n",
    "# CONSTRUCT DATA LOADER\n",
    "train_data = TensorDataset(train_seq, train_mask, train_y)\n",
    "\n",
    "train_sampler = RandomSampler(train_data)\n",
    "\n",
    "train_dataloader = DataLoader(train_data, sampler=train_sampler, batch_size=batch_size)\n",
    "\n",
    "\n",
    "eval_data = TensorDataset(eval_seq, eval_mask, eval_y)\n",
    "\n",
    "eval_sampler = RandomSampler(eval_data)\n",
    "\n",
    "eval_dataloader = DataLoader(eval_data, sampler=eval_sampler, batch_size=batch_size)\n"
   ]
  },
  {
   "cell_type": "code",
   "execution_count": null,
   "metadata": {},
   "outputs": [],
   "source": [
    "# FREEZE BERT PARAMETERS\n",
    "for param in bert.parameters():\n",
    "    param.requires_grad = False"
   ]
  },
  {
   "cell_type": "code",
   "execution_count": null,
   "metadata": {
    "id": "j1-kYrHxwLzQ"
   },
   "outputs": [],
   "source": [
    "# ACTUAL MODEL FOR FINE-TUNE\n",
    "class BERT_Arch(nn.Module):\n",
    "\n",
    "    def __init__(self, bert):\n",
    "      \n",
    "      super(BERT_Arch, self).__init__()\n",
    "      self.bert = bert \n",
    "    \n",
    "      self.dropout = nn.Dropout(0.5)\n",
    "      self.relu =  nn.ReLU()\n",
    "    \n",
    "      self.fc1 = nn.Linear(768,256)\n",
    "      self.fc2 = nn.Linear(256,2)\n",
    "\n",
    "      self.softmax = nn.LogSoftmax(dim=1)\n",
    "\n",
    "    def forward(self, sent_id, mask):\n",
    "      output= self.bert(sent_id, attention_mask=mask)\n",
    "      x = self.fc1(self.dropout(output.last_hidden_state[:,0,:]))\n",
    "      x = self.relu(x)\n",
    "      x = self.dropout(x)\n",
    "      x = self.fc2(x)\n",
    "      x = self.softmax(x)\n",
    "\n",
    "      return x"
   ]
  },
  {
   "cell_type": "code",
   "execution_count": null,
   "metadata": {
    "id": "MoTxmAGuwOfU"
   },
   "outputs": [],
   "source": [
    "model = BERT_Arch(bert)\n",
    "model = model.to(device)"
   ]
  },
  {
   "cell_type": "code",
   "execution_count": null,
   "metadata": {
    "id": "g1FbnA0NS4hU"
   },
   "outputs": [],
   "source": [
    "from transformers import AdamW\n",
    "# DEFINE OPTIMIZER\n",
    "optimizer = AdamW(model.parameters(), lr=0.0005, betas=(0.9, 0.999), eps=1e-08, weight_decay=0.001)\n",
    "criterion = nn.NLLLoss() "
   ]
  },
  {
   "cell_type": "code",
   "execution_count": null,
   "metadata": {
    "id": "vKRvdpGhwRdI"
   },
   "outputs": [],
   "source": [
    "# REFERENCE: https://www.analyticsvidhya.com/blog/2020/07/transfer-learning-for-nlp-fine-tuning-bert-for-text-classification/\n",
    "def train():\n",
    "  \n",
    "  model.train()\n",
    "\n",
    "  total_loss, total_accuracy = 0, 0\n",
    "\n",
    "  total_preds=[]\n",
    "  total_labels = []\n",
    "  for step,batch in enumerate(train_dataloader):\n",
    "    batch = [r.to(device) for r in batch]\n",
    "    \n",
    "    # GET BATCH DATA\n",
    "    sent_id, mask, labels = batch\n",
    "    optimizer.zero_grad()        \n",
    "\n",
    "    preds = model(sent_id, mask)\n",
    "    # GET PREDICTION LOGITS\n",
    "    loss = criterion(preds, labels)\n",
    "    total_loss = total_loss + loss.item()\n",
    "    # LOSS BACK PROPAGATION\n",
    "    loss.backward()\n",
    "\n",
    "    optimizer.step()\n",
    "    preds=preds.detach().cpu().numpy()\n",
    "\n",
    "    total_preds.append(preds.argmax(1))\n",
    "    total_labels.append(labels.cpu().numpy())\n",
    "  avg_loss = total_loss / len(train_dataloader)\n",
    "  \n",
    "  total_preds  = np.concatenate(total_preds, axis=0)\n",
    "  return avg_loss, total_preds, np.concatenate(total_labels, axis=0)\n",
    "\n",
    "\n",
    "\n",
    "def evaluate_eval(model):\n",
    "  \n",
    "  model.eval()\n",
    "\n",
    "  total_loss, total_accuracy = 0, 0\n",
    "  total_preds=[]\n",
    "  total_labels = []\n",
    "  for step,batch in enumerate(eval_dataloader):\n",
    "    batch = [r.to(device) for r in batch]\n",
    " \n",
    "    sent_id, mask, labels = batch\n",
    "    \n",
    "    preds = model(sent_id, mask)\n",
    "\n",
    "\n",
    "    preds=preds.detach().cpu().numpy()\n",
    "\n",
    "\n",
    "    total_preds.append(preds.argmax(1))\n",
    "    total_labels.append(labels.cpu().numpy())\n",
    "\n",
    "  \n",
    "  total_preds  = np.concatenate(total_preds, axis=0)\n",
    "\n",
    "  return total_preds, np.concatenate(total_labels, axis=0)"
   ]
  },
  {
   "cell_type": "code",
   "execution_count": null,
   "metadata": {
    "colab": {
     "base_uri": "https://localhost:8080/",
     "height": 528
    },
    "id": "PZeLMF7ywcvH",
    "outputId": "0ded17bd-385b-48da-b12a-b2c2aa3799c9",
    "scrolled": false
   },
   "outputs": [],
   "source": [
    "from sklearn.metrics import f1_score\n",
    "epochs= 20\n",
    "best_valid_loss = float('inf')\n",
    "best_f1 = -10\n",
    "train_losses=[]\n",
    "for epoch in range(epochs):\n",
    "    print('\\n Epoch {:} / {:}'.format(epoch + 1, epochs))\n",
    "    train_loss, total_preds, total_labels = train()\n",
    "    print(\"train_acc\", sum(total_preds == total_labels)/total_labels.shape[0])\n",
    "    preds, eval_labels = evaluate_eval(model)\n",
    "    curr_f1 = f1_score(eval_labels, preds)\n",
    "    print(\"eval_f1\", curr_f1)\n",
    "    print(\"eval_acc\", sum(eval_labels == preds)/preds.shape[0])\n",
    "    if curr_f1 > best_f1:\n",
    "      torch.save(model, \"model.pt\")\n",
    "      best_f1 = curr_f1\n",
    "    # append training and validation loss\n",
    "    train_losses.append(train_loss)\n",
    "    print(f'\\nTraining Loss: {train_loss:.3f}')"
   ]
  },
  {
   "cell_type": "code",
   "execution_count": null,
   "metadata": {},
   "outputs": [],
   "source": [
    "from sklearn.metrics import f1_score\n",
    "def evaluate(model):\n",
    "  # GET TEST PREDICTION\n",
    "  model.eval()\n",
    "  preds = model(test_seq.to(device), test_mask.to(device))\n",
    "  preds=preds.detach().argmax(1).cpu().numpy()\n",
    "  return preds"
   ]
  },
  {
   "cell_type": "code",
   "execution_count": null,
   "metadata": {
    "id": "29PCPd1cwgCP"
   },
   "outputs": [],
   "source": [
    "# LOAD BEST MODEL\n",
    "model = torch.load(\"model.pt\")\n",
    "# GET PREDICTIONS FOR VALIDATION SET\n",
    "preds, eval_labels = evaluate_eval(model)\n",
    "curr_f1 = f1_score(eval_labels, preds)\n",
    "print(\"eval_f1\", curr_f1)\n",
    "print(\"eval_acc\", sum(eval_labels == preds)/preds.shape[0])\n",
    "with torch.no_grad():\n",
    "  # GET PREDICTIONS FOR TEST SET\n",
    "  preds = evaluate(model)"
   ]
  },
  {
   "cell_type": "code",
   "execution_count": null,
   "metadata": {
    "id": "IoIhaHuT2DA1"
   },
   "outputs": [],
   "source": [
    "assert len(preds) == len(test_labels)"
   ]
  },
  {
   "cell_type": "code",
   "execution_count": null,
   "metadata": {
    "id": "fOXQ5bqb2Ke6",
    "scrolled": true
   },
   "outputs": [],
   "source": [
    "# OUTPUT TO ANSWER.TXT\n",
    "f = open(\"answer.txt\", 'w+')\n",
    "for i in range(len(test_labels)):\n",
    "    if preds[i] == 0:\n",
    "        curr_pred = \"NOT_SARCASM\"\n",
    "    else:\n",
    "        curr_pred = \"SARCASM\"\n",
    "    f.write('twitter_{},{}\\n'.format(test_labels[i], curr_pred))\n",
    "    print('twitter_{},{}\\n'.format(test_labels[i], curr_pred))\n",
    "f.close()\n"
   ]
  },
  {
   "cell_type": "code",
   "execution_count": null,
   "metadata": {
    "id": "v7caYsHY2P2Q"
   },
   "outputs": [],
   "source": []
  },
  {
   "cell_type": "code",
   "execution_count": null,
   "metadata": {},
   "outputs": [],
   "source": []
  }
 ],
 "metadata": {
  "accelerator": "GPU",
  "colab": {
   "collapsed_sections": [],
   "name": "bert.ipynb",
   "provenance": []
  },
  "kernelspec": {
   "display_name": "Python 3",
   "language": "python",
   "name": "python3"
  },
  "language_info": {
   "codemirror_mode": {
    "name": "ipython",
    "version": 3
   },
   "file_extension": ".py",
   "mimetype": "text/x-python",
   "name": "python",
   "nbconvert_exporter": "python",
   "pygments_lexer": "ipython3",
   "version": "3.7.7"
  }
 },
 "nbformat": 4,
 "nbformat_minor": 1
}
